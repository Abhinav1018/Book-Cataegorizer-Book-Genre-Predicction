{
  "nbformat": 4,
  "nbformat_minor": 0,
  "metadata": {
    "colab": {
      "name": "BooksCategorizor.ipynb",
      "provenance": [],
      "collapsed_sections": []
    },
    "kernelspec": {
      "display_name": "Python 3",
      "language": "python",
      "name": "python3"
    },
    "language_info": {
      "codemirror_mode": {
        "name": "ipython",
        "version": 3
      },
      "file_extension": ".py",
      "mimetype": "text/x-python",
      "name": "python",
      "nbconvert_exporter": "python",
      "pygments_lexer": "ipython3",
      "version": "3.7.0"
    }
  },
  "cells": [
    {
      "cell_type": "markdown",
      "metadata": {
        "id": "7t5sexKtANf2"
      },
      "source": [
        "# Categorizing Books - Based on Description\n",
        "## Abhinav Vijayakumar (19BCE1311), Amar Dixit (19BCE1875).\n",
        "\n",
        "\n",
        "### CSE4022 J-Component Final Project: Faculty - Dr. G. Bharadwaja Kumar (B2+TB2)"
      ]
    },
    {
      "cell_type": "markdown",
      "metadata": {
        "id": "Qa3Qb9CgANf6"
      },
      "source": [
        "This NLP project(Book Categorizaion) uses Multi Label Classification, an instance/record can have multiple labels and the number of labels per instance is not fixed."
      ]
    },
    {
      "cell_type": "markdown",
      "metadata": {
        "id": "XRpkjTmxANf7"
      },
      "source": [
        "Books are not one-dimensional. One book can span several genres. This code aims at predicting a list of genres, given the summary as a feature for each book."
      ]
    },
    {
      "cell_type": "code",
      "metadata": {
        "colab": {
          "base_uri": "https://localhost:8080/"
        },
        "id": "ozEv-q5bk6fe",
        "outputId": "03ee5e32-1ab5-4c72-a06f-deba720deed3"
      },
      "source": [
        "from google.colab import drive\n",
        "drive.mount('/content/drive')"
      ],
      "execution_count": null,
      "outputs": [
        {
          "output_type": "stream",
          "name": "stdout",
          "text": [
            "Drive already mounted at /content/drive; to attempt to forcibly remount, call drive.mount(\"/content/drive\", force_remount=True).\n"
          ]
        }
      ]
    },
    {
      "cell_type": "markdown",
      "metadata": {
        "id": "Clgh4THaANf8"
      },
      "source": [
        "Necssary Imports:"
      ]
    },
    {
      "cell_type": "code",
      "metadata": {
        "colab": {
          "base_uri": "https://localhost:8080/"
        },
        "id": "7FEeYpGC6ll2",
        "outputId": "af2ddebe-3be0-4bd8-9d26-d22ecf226587"
      },
      "source": [
        "import pandas as pd\n",
        "import numpy as np\n",
        "import json\n",
        "import nltk\n",
        "nltk.download('stopwords')\n",
        "nltk.download('punkt')\n",
        "nltk.download('wordnet')\n",
        "from nltk.corpus import stopwords \n",
        "stop_words = set(stopwords.words('english'))\n",
        "from nltk.stem import WordNetLemmatizer\n",
        "from nltk.corpus import wordnet\n",
        "import re\n",
        "import csv\n",
        "import matplotlib.pyplot as plt \n",
        "import seaborn as sns\n",
        "from tqdm import tqdm\n",
        "from sklearn.feature_extraction.text import TfidfVectorizer\n",
        "from sklearn.model_selection import train_test_split\n",
        "from xml.etree import ElementTree\n",
        "import pickle\n",
        "import random\n",
        "from random import shuffle\n",
        "\n",
        "%matplotlib inline\n",
        "pd.set_option('display.max_colwidth', 300)"
      ],
      "execution_count": null,
      "outputs": [
        {
          "output_type": "stream",
          "name": "stdout",
          "text": [
            "[nltk_data] Downloading package stopwords to /root/nltk_data...\n",
            "[nltk_data]   Unzipping corpora/stopwords.zip.\n",
            "[nltk_data] Downloading package punkt to /root/nltk_data...\n",
            "[nltk_data]   Unzipping tokenizers/punkt.zip.\n",
            "[nltk_data] Downloading package wordnet to /root/nltk_data...\n",
            "[nltk_data]   Unzipping corpora/wordnet.zip.\n"
          ]
        }
      ]
    },
    {
      "cell_type": "markdown",
      "metadata": {
        "id": "VyExCD8WANf-"
      },
      "source": [
        "Getting the Dataset:"
      ]
    },
    {
      "cell_type": "markdown",
      "metadata": {
        "id": "Vpd5lESwANf-"
      },
      "source": [
        "The dataset used is Blurb Genre Collection.\n",
        "Ref: https://www.inf.uni-hamburg.de/en/inst/ab/lt/resources/data/blurb-genre-collection.html\n",
        "\n",
        "The BlurbGenreCollection-EN is a dataset consisting of advertising descriptions of books - so called blurbs - for the English language. Each blurb is categorized into one or multiple categories. The categories are structured hierarchically.\n",
        "\n",
        "An example entry of the resulting datset is shown below:"
      ]
    },
    {
      "cell_type": "markdown",
      "metadata": {
        "id": "Tj9Bh9zQANf_"
      },
      "source": [
        "    <book date=\"2018-08-18\" xml:lang=\"en\">\n",
        "      <title>2001: a Space Odyssey</title>\n",
        "      <body>\n",
        "        The classic science fiction novel that captures and expands on the vision of Stanley Kubrick´s\n",
        "        immortal film-and changed the way we look at the stars and ourselves. From the savannas of Africa at the\n",
        "        dawn of mankind to the rings of Saturn as man ventures to the outer rim of our solar system, 2001: A\n",
        "        Space Odyssey is a journey unlike any other. This allegory about humanity´s exploration of the universe-and\n",
        "        the universe`s reaction to humanity-is a hallmark achievement in storytelling that follows the crew of the\n",
        "        spacecraft Discovery as they embark on a mission to Saturn. Their vessel is controlled by HAL 9000, an\n",
        "        artificially intelligent supercomputer capable of the highest level of cognitive functioning that\n",
        "        rivals-and perhaps threatens-the human mind. Grappling with space exploration, the perils of technology,\n",
        "        and the limits of human power, 2001: A Space Odyssey continues to be an enduring classic of cinematic\n",
        "        scope.\n",
        "      </body>\n",
        "      <copyright>(c) Penguin Random House</copyright>\n",
        "      <metadata>\n",
        "        <topics>\n",
        "          <d0>Fiction</d0>\n",
        "          <d1>Science Fiction</d1>\n",
        "          <d1>Mystery & Suspense</d1>\n",
        "          <d2>Suspense & Thriller</d2>\n",
        "        </topics>\n",
        "        <author>Arthur C. Clarke</author>\n",
        "        <published>Sep 01, 2000 </published>\n",
        "        <page_num> 320 Pages</page_num>\n",
        "        <isbn>9780451457998</isbn>\n",
        "        <url>https://www.penguinrandomhouse.com/books/325356/2001- a-space-odyssey-by-arthur-c-clarke/</url>\n",
        "      </metadata>\n",
        "    </book>"
      ]
    },
    {
      "cell_type": "code",
      "metadata": {
        "id": "2C8L3aYRPqaL"
      },
      "source": [
        "def getDataFrame(filename):\n",
        "    dataset=[]\n",
        "    tree = ElementTree.parse(filename)\n",
        "    root = tree.getroot()\n",
        "\n",
        "    for book in root.findall('book'):\n",
        "        for metadata in book.find('metadata'):\n",
        "            x=metadata\n",
        "            break\n",
        "        a=[]\n",
        "        if(x.find('d3')!=None):\n",
        "            a.append(x.find('d3').text)\n",
        "        if(x.find('d2')!=None):\n",
        "            a.append(x.find('d2').text)\n",
        "        if(x.find('d1')!=None):\n",
        "            a.append(x.find('d1').text)\n",
        "        if(x.find('d0')!=None):\n",
        "            a.append(x.find('d0').text)\n",
        "\n",
        "        if len(a) != 0:        \n",
        "            dataset.append([book.find('title').text,a,book.find('body').text])\n",
        "    return dataset  \n",
        "\n",
        "dataset = getDataFrame('/content/drive/MyDrive/Colab Notebooks/Datasets/BlurbGenreCollection_EN_train.xml')\n",
        "dataset2 = getDataFrame('/content/drive/MyDrive/Colab Notebooks/Datasets/BlurbGenreCollection_EN_test.xml')\n",
        "dataset = dataset + dataset2"
      ],
      "execution_count": null,
      "outputs": []
    },
    {
      "cell_type": "markdown",
      "metadata": {
        "id": "dZsM3GSSANgC"
      },
      "source": [
        "Creating DataFrame from list of data:"
      ]
    },
    {
      "cell_type": "code",
      "metadata": {
        "id": "mQYrTJ3wPyP-"
      },
      "source": [
        "df=pd.DataFrame(dataset,columns=['Name','Genres','Summary'])"
      ],
      "execution_count": null,
      "outputs": []
    },
    {
      "cell_type": "code",
      "metadata": {
        "colab": {
          "base_uri": "https://localhost:8080/",
          "height": 770
        },
        "id": "hfOPDsiJWx0a",
        "outputId": "896441f1-29da-448b-b06c-67043d4ca090"
      },
      "source": [
        "df"
      ],
      "execution_count": null,
      "outputs": [
        {
          "output_type": "execute_result",
          "data": {
            "text/html": [
              "<div>\n",
              "<style scoped>\n",
              "    .dataframe tbody tr th:only-of-type {\n",
              "        vertical-align: middle;\n",
              "    }\n",
              "\n",
              "    .dataframe tbody tr th {\n",
              "        vertical-align: top;\n",
              "    }\n",
              "\n",
              "    .dataframe thead th {\n",
              "        text-align: right;\n",
              "    }\n",
              "</style>\n",
              "<table border=\"1\" class=\"dataframe\">\n",
              "  <thead>\n",
              "    <tr style=\"text-align: right;\">\n",
              "      <th></th>\n",
              "      <th>Name</th>\n",
              "      <th>Genres</th>\n",
              "      <th>Summary</th>\n",
              "    </tr>\n",
              "  </thead>\n",
              "  <tbody>\n",
              "    <tr>\n",
              "      <th>0</th>\n",
              "      <td>The New York Times Daily Crossword Puzzles: Thursday, Volume 1</td>\n",
              "      <td>[Games, Nonfiction]</td>\n",
              "      <td>Monday’s Crosswords Do with EaseTuesday’s Crosswords Not a BreezeWednesday’s Crosswords Harder StillThursday’s Crosswords Take Real SkillFriday’s Crosswords — You’ve Come This Far…Saturday’s Crosswords — You’re a Star!For millions of people, the New York Times crossword puzzles are as essential ...</td>\n",
              "    </tr>\n",
              "    <tr>\n",
              "      <th>1</th>\n",
              "      <td>Creatures of the Night (Second Edition)</td>\n",
              "      <td>[Graphic Novels and Manga, Fiction]</td>\n",
              "      <td>Two of literary comics modern masters present a pair of magical and disturbing stories of strange creatures who are not quite what they seem! In The Price, a mysterious feline engages in a nightly conflict with an unseen, vicious foe. The Daughter of Owls recounts an eerie tale of a beautiful or...</td>\n",
              "    </tr>\n",
              "    <tr>\n",
              "      <th>2</th>\n",
              "      <td>Cornelia and the Audacious Escapades of the Somerset Sisters</td>\n",
              "      <td>[Children’s Middle Grade Books, Children’s Books]</td>\n",
              "      <td>Eleven-year-old Cornelia is the daughter of two world-famous pianists—a legacy that should feel fabulous, but instead feels just plain lonely. She surrounds herself with dictionaries and other books to isolate herself from the outside world. But when a glamorous neighbor named Virginia Somerset ...</td>\n",
              "    </tr>\n",
              "    <tr>\n",
              "      <th>3</th>\n",
              "      <td>The Alchemist's Daughter</td>\n",
              "      <td>[Historical Fiction, Fiction]</td>\n",
              "      <td>During the English Age of Reason, a woman cloistered since birth learns that knowledge is no substitute for experience.Raised by her father in near isolation in the English countryside, Emilie Selden is trained as a brilliant natural philosopher and alchemist. In the spring of 1725, father and d...</td>\n",
              "    </tr>\n",
              "    <tr>\n",
              "      <th>4</th>\n",
              "      <td>Dangerous Boy</td>\n",
              "      <td>[Teen and Young Adult Mystery and Suspense, Teen and Young Adult]</td>\n",
              "      <td>A modern-day retelling of The Strange Case of Dr. Jekyll and Mr. Hyde with a chilling twist Harper has never been worried about falling in love, something she is skeptical even exists. But everything changes when Logan moves to town, and to Harper’s shock, the two tumble into an intense romance....</td>\n",
              "    </tr>\n",
              "    <tr>\n",
              "      <th>...</th>\n",
              "      <td>...</td>\n",
              "      <td>...</td>\n",
              "      <td>...</td>\n",
              "    </tr>\n",
              "    <tr>\n",
              "      <th>77104</th>\n",
              "      <td>Cathedral of the Sea</td>\n",
              "      <td>[Romance, Fiction]</td>\n",
              "      <td>An unforgettable fresco of a golden age in fourteenth-century Barcelona, Cathedral of the Sea is a thrilling historical novel of friendship and revenge, plague and hope, love and war.   Arnau Estanyol arrives in Barcelona to find a city dominated by the construction of the city’s great pride—the...</td>\n",
              "    </tr>\n",
              "    <tr>\n",
              "      <th>77105</th>\n",
              "      <td>Understanding the Messages of Your Body</td>\n",
              "      <td>[Alternative Therapies, Health and Fitness, Nonfiction]</td>\n",
              "      <td>Fears, anxieties, traumas, and physical and emotional shocks imprint on the body and remain dormant in its vast memory store until they are roused by an event or encounter. They may manifest in a different form or place—a fearful incident may transform itself into a stomachache or a headache, or...</td>\n",
              "    </tr>\n",
              "    <tr>\n",
              "      <th>77106</th>\n",
              "      <td>Knockout</td>\n",
              "      <td>[Alternative Therapies, Health and Fitness, Nonfiction]</td>\n",
              "      <td>In Knockout, Suzanne Somers interviews doctors who are successfully using the most innovative cancer treatments—treatments that build up the body rather than tear it down. Somers herself has stared cancer in the face, and a decade later she has conquered her fear and has emerged confident with t...</td>\n",
              "    </tr>\n",
              "    <tr>\n",
              "      <th>77107</th>\n",
              "      <td>The End of the Suburbs</td>\n",
              "      <td>[Domestic Politics, Politics, Nonfiction]</td>\n",
              "      <td>“The government in the past created one American Dream at the expense of almost all others: the dream of a house, a lawn, a picket fence, two children, and a car. But there is no single American Dream anymore.”For nearly 70 years, the suburbs were as American as apple pie. As the middle class ba...</td>\n",
              "    </tr>\n",
              "    <tr>\n",
              "      <th>77108</th>\n",
              "      <td>First Aid Fast for Babies and Children</td>\n",
              "      <td>[Parenting, Nonfiction]</td>\n",
              "      <td>An indispensable guide for all parents and caretakers that covers a wide range of childhood emergencies.From anaphylaxis to burns to severe bleeding and bruising, First Aid Fast for Babies and Children offers clear advice, and step-by-step photographs show you what to do.This revised and updated...</td>\n",
              "    </tr>\n",
              "  </tbody>\n",
              "</table>\n",
              "<p>77109 rows × 3 columns</p>\n",
              "</div>"
            ],
            "text/plain": [
              "                                                                 Name  ...                                                                                                                                                                                                                                                                                                      Summary\n",
              "0      The New York Times Daily Crossword Puzzles: Thursday, Volume 1  ...  Monday’s Crosswords Do with EaseTuesday’s Crosswords Not a BreezeWednesday’s Crosswords Harder StillThursday’s Crosswords Take Real SkillFriday’s Crosswords — You’ve Come This Far…Saturday’s Crosswords — You’re a Star!For millions of people, the New York Times crossword puzzles are as essential ...\n",
              "1                             Creatures of the Night (Second Edition)  ...  Two of literary comics modern masters present a pair of magical and disturbing stories of strange creatures who are not quite what they seem! In The Price, a mysterious feline engages in a nightly conflict with an unseen, vicious foe. The Daughter of Owls recounts an eerie tale of a beautiful or...\n",
              "2        Cornelia and the Audacious Escapades of the Somerset Sisters  ...  Eleven-year-old Cornelia is the daughter of two world-famous pianists—a legacy that should feel fabulous, but instead feels just plain lonely. She surrounds herself with dictionaries and other books to isolate herself from the outside world. But when a glamorous neighbor named Virginia Somerset ...\n",
              "3                                            The Alchemist's Daughter  ...  During the English Age of Reason, a woman cloistered since birth learns that knowledge is no substitute for experience.Raised by her father in near isolation in the English countryside, Emilie Selden is trained as a brilliant natural philosopher and alchemist. In the spring of 1725, father and d...\n",
              "4                                                       Dangerous Boy  ...  A modern-day retelling of The Strange Case of Dr. Jekyll and Mr. Hyde with a chilling twist Harper has never been worried about falling in love, something she is skeptical even exists. But everything changes when Logan moves to town, and to Harper’s shock, the two tumble into an intense romance....\n",
              "...                                                               ...  ...                                                                                                                                                                                                                                                                                                          ...\n",
              "77104                                            Cathedral of the Sea  ...  An unforgettable fresco of a golden age in fourteenth-century Barcelona, Cathedral of the Sea is a thrilling historical novel of friendship and revenge, plague and hope, love and war.   Arnau Estanyol arrives in Barcelona to find a city dominated by the construction of the city’s great pride—the...\n",
              "77105                         Understanding the Messages of Your Body  ...  Fears, anxieties, traumas, and physical and emotional shocks imprint on the body and remain dormant in its vast memory store until they are roused by an event or encounter. They may manifest in a different form or place—a fearful incident may transform itself into a stomachache or a headache, or...\n",
              "77106                                                        Knockout  ...  In Knockout, Suzanne Somers interviews doctors who are successfully using the most innovative cancer treatments—treatments that build up the body rather than tear it down. Somers herself has stared cancer in the face, and a decade later she has conquered her fear and has emerged confident with t...\n",
              "77107                                          The End of the Suburbs  ...  “The government in the past created one American Dream at the expense of almost all others: the dream of a house, a lawn, a picket fence, two children, and a car. But there is no single American Dream anymore.”For nearly 70 years, the suburbs were as American as apple pie. As the middle class ba...\n",
              "77108                          First Aid Fast for Babies and Children  ...  An indispensable guide for all parents and caretakers that covers a wide range of childhood emergencies.From anaphylaxis to burns to severe bleeding and bruising, First Aid Fast for Babies and Children offers clear advice, and step-by-step photographs show you what to do.This revised and updated...\n",
              "\n",
              "[77109 rows x 3 columns]"
            ]
          },
          "metadata": {},
          "execution_count": 9
        }
      ]
    },
    {
      "cell_type": "code",
      "metadata": {
        "id": "pvbYd0y3ANgE"
      },
      "source": [
        "genre_count = {}\n",
        "def draw_genre_plot(df):\n",
        "    global genre_count\n",
        "    genre_count = {}\n",
        "    for index,row in df.iterrows():\n",
        "        genres = row[\"Genres\"]\n",
        "        for g in genres:\n",
        "            try:\n",
        "                genre_count[g] += 1\n",
        "            except:\n",
        "                genre_count[g] = 1\n",
        "                \n",
        "    print(\"Total unique genres:\", len(genre_count.keys()))\n",
        "    genre_count_dist = nltk.FreqDist(genre_count) \n",
        "    genre_count_df = pd.DataFrame({'Genre': list(genre_count_dist.keys()), \n",
        "                                  'Count': list(genre_count_dist.values())})\n",
        "    g = genre_count_df.nlargest(columns=\"Count\", n = 50) \n",
        "    plt.figure(figsize=(12,15)) \n",
        "    ax = sns.barplot(data=g, x= \"Count\", y = \"Genre\") \n",
        "    ax.set(ylabel = 'Count') \n",
        "    plt.show()"
      ],
      "execution_count": null,
      "outputs": []
    },
    {
      "cell_type": "markdown",
      "metadata": {
        "id": "5BUB9dxXANgE"
      },
      "source": [
        "Our current genre distribution is as shown:"
      ]
    },
    {
      "cell_type": "code",
      "metadata": {
        "colab": {
          "base_uri": "https://localhost:8080/",
          "height": 894
        },
        "id": "9xZLfq5eANgF",
        "outputId": "3603669e-c6f4-46d3-eead-595bec33f367"
      },
      "source": [
        "draw_genre_plot(df)"
      ],
      "execution_count": null,
      "outputs": [
        {
          "output_type": "stream",
          "name": "stdout",
          "text": [
            "Total unique genres: 139\n"
          ]
        },
        {
          "output_type": "display_data",
          "data": {
            "image/png": "[encoded data removed]",
            "text/plain": [
              "<Figure size 864x1080 with 1 Axes>"
            ]
          },
          "metadata": {
            "needs_background": "light"
          }
        }
      ]
    },
    {
      "cell_type": "markdown",
      "metadata": {
        "id": "hgMxRh2vANgG"
      },
      "source": [
        "For better data distribution, we did data augmentation.\n",
        "\n",
        "Data augmentation is a strategy that enables practitioners to significantly increase the diversity of data available for training models, without actually collecting new data."
      ]
    },
    {
      "cell_type": "code",
      "metadata": {
        "id": "gLJec1XKANgG"
      },
      "source": [
        "def printProgressBar (iteration, total, prefix = '', suffix = '', decimals = 1, length = 100, fill = '█', printEnd = \"\\r\"):\n",
        "    \"\"\"\n",
        "    Call in a loop to create terminal progress bar\n",
        "    @params:\n",
        "        iteration   - Required  : current iteration (Int)\n",
        "        total       - Required  : total iterations (Int)\n",
        "        prefix      - Optional  : prefix string (Str)\n",
        "        suffix      - Optional  : suffix string (Str)\n",
        "        decimals    - Optional  : positive number of decimals in percent complete (Int)\n",
        "        length      - Optional  : character length of bar (Int)\n",
        "        fill        - Optional  : bar fill character (Str)\n",
        "        printEnd    - Optional  : end character (e.g. \"\\r\", \"\\r\\n\") (Str)\n",
        "    \"\"\"\n",
        "    percent = (\"{0:.\" + str(decimals) + \"f}\").format(100 * (iteration / float(total)))\n",
        "    filledLength = int(length * iteration // total)\n",
        "    bar = fill * filledLength + '-' * (length - filledLength)\n",
        "    print('\\r%s |%s| %s%% %s' % (prefix, bar, percent, suffix), end = printEnd)\n",
        "    # Print New Line on Complete\n",
        "    if iteration == total: \n",
        "        print()"
      ],
      "execution_count": null,
      "outputs": []
    },
    {
      "cell_type": "markdown",
      "metadata": {
        "id": "GExEdQ_gANgH"
      },
      "source": [
        "Functions for Data Augmentation:"
      ]
    },
    {
      "cell_type": "code",
      "metadata": {
        "id": "YFqSxCXrANgH"
      },
      "source": [
        "def synonym_replacement(words, n):\n",
        "    new_words = words.copy()\n",
        "    random_word_list = list(set([word for word in words if word not in stop_words]))\n",
        "    random.shuffle(random_word_list)\n",
        "    num_replaced = 0\n",
        "    for random_word in random_word_list:\n",
        "        synonyms = get_synonyms(random_word)\n",
        "        if len(synonyms) >= 1:\n",
        "            synonym = random.choice(list(synonyms))\n",
        "            new_words = [synonym if word == random_word else word for word in new_words]\n",
        "            num_replaced += 1\n",
        "        if num_replaced >= n: \n",
        "            break\n",
        "\n",
        "    sentence = ' '.join(new_words)\n",
        "    new_words = sentence.split(' ')\n",
        "\n",
        "    return new_words"
      ],
      "execution_count": null,
      "outputs": []
    },
    {
      "cell_type": "code",
      "metadata": {
        "id": "0lBdTcqLANgI"
      },
      "source": [
        "def get_synonyms(word):\n",
        "    synonyms = set()\n",
        "    for syn in wordnet.synsets(word): \n",
        "        for l in syn.lemmas(): \n",
        "            synonym = l.name().replace(\"_\", \" \").replace(\"-\", \" \").lower()\n",
        "            synonym = \"\".join([char for char in synonym if char in ' qwertyuiopasdfghjklzxcvbnm'])\n",
        "            synonyms.add(synonym) \n",
        "    if word in synonyms:\n",
        "        synonyms.remove(word)\n",
        "    return list(synonyms)"
      ],
      "execution_count": null,
      "outputs": []
    },
    {
      "cell_type": "code",
      "metadata": {
        "id": "T5pETGK-ANgJ"
      },
      "source": [
        "def applysynonym(row):\n",
        "    words = nltk.word_tokenize(row)\n",
        "    n = len(words)\n",
        "    res = synonym_replacement(words,n//10)\n",
        "    return ' '.join(res)"
      ],
      "execution_count": null,
      "outputs": []
    },
    {
      "cell_type": "markdown",
      "metadata": {
        "id": "wOxzHc9LANgJ"
      },
      "source": [
        ""
      ]
    },
    {
      "cell_type": "code",
      "metadata": {
        "id": "njGj3vPgANgJ"
      },
      "source": [
        "def augmentdata(row, n):\n",
        "    global df\n",
        "    t1 = row\n",
        "    for i in range(n):\n",
        "        t1.Summary = applysynonym(row.Summary)\n",
        "        df = df.append(t1,ignore_index=True)\n",
        "    return"
      ],
      "execution_count": null,
      "outputs": []
    },
    {
      "cell_type": "code",
      "metadata": {
        "id": "9m8zpgaZANgK"
      },
      "source": [
        "def do_augmentation():\n",
        "    global df\n",
        "    global genre_count\n",
        "    len_df = len(df)\n",
        "    for index,row in df.iterrows():\n",
        "        genres = row.Genres\n",
        "        append_data = True\n",
        "        for g in genres:\n",
        "            if genre_count[g] >= 20000:\n",
        "                append_data = False\n",
        "                break\n",
        "        if append_data:\n",
        "            augmentdata(row, 10)\n",
        "            for g2 in genres:\n",
        "                genre_count[g2] += 10\n",
        "        printProgressBar(index + 1, len_df, prefix = 'Augmenting data:', suffix = 'Complete', length = 50)"
      ],
      "execution_count": null,
      "outputs": []
    },
    {
      "cell_type": "code",
      "metadata": {
        "colab": {
          "base_uri": "https://localhost:8080/"
        },
        "id": "efFXBltCANgK",
        "outputId": "a45fa0ff-5fa0-4e71-b994-1093b8a81e94"
      },
      "source": [
        "for i in range(5):\n",
        "    do_augmentation() "
      ],
      "execution_count": null,
      "outputs": [
        {
          "output_type": "stream",
          "name": "stdout",
          "text": [
            "Augmenting data: |██████████████████████████████████████████████████| 100.0% Complete\n",
            "Augmenting data: |██████████████████████████████████████████████████| 100.0% Complete\n",
            "Augmenting data: |██████████████████████████████████████████████████| 100.0% Complete\n",
            "Augmenting data: |██████████████████████████████████████████████████| 100.0% Complete\n",
            "Augmenting data: |██████████████████████████████████████████████████| 100.0% Complete\n"
          ]
        }
      ]
    },
    {
      "cell_type": "markdown",
      "metadata": {
        "id": "V2Zqt5QOANgL"
      },
      "source": [
        "The distribution of data after data augmentation:"
      ]
    },
    {
      "cell_type": "code",
      "metadata": {
        "colab": {
          "base_uri": "https://localhost:8080/",
          "height": 894
        },
        "id": "0U_o7GoUANgL",
        "outputId": "af87c3da-6eb2-439b-aa87-7c08616ebd14"
      },
      "source": [
        "draw_genre_plot(df)"
      ],
      "execution_count": null,
      "outputs": [
        {
          "output_type": "stream",
          "name": "stdout",
          "text": [
            "Total unique genres: 139\n"
          ]
        },
        {
          "output_type": "display_data",
          "data": {
            "image/png": "[encoded data removed]",
            "text/plain": [
              "<Figure size 864x1080 with 1 Axes>"
            ]
          },
          "metadata": {
            "needs_background": "light"
          }
        }
      ]
    },
    {
      "cell_type": "code",
      "metadata": {
        "id": "KZMkgsTaY6bP"
      },
      "source": [
        "def clean_text(text):\n",
        "    text = re.sub(\"\\'\", \"\", text) \n",
        "    text = re.sub(\"[^a-zA-Z]\",\" \",text) \n",
        "    text = ' '.join(text.split()) \n",
        "    text = text.lower() \n",
        "    return text\n",
        "\n",
        "def remove_stopwords(text):\n",
        "    no_stopword_text = [w for w in text.split() if not w in stop_words]\n",
        "    return ' '.join(no_stopword_text)"
      ],
      "execution_count": null,
      "outputs": []
    },
    {
      "cell_type": "code",
      "metadata": {
        "id": "LNhIZfSmZl_7"
      },
      "source": [
        "def freq_words(x, terms = 30): \n",
        "    word_count = {}\n",
        "    for index,row in df.iterrows():\n",
        "        text = row[\"Summary\"]\n",
        "        for w in nltk.word_tokenize(text):\n",
        "            try:\n",
        "                word_count[w] += 1\n",
        "            except:\n",
        "                word_count[w] = 1\n",
        "                \n",
        "    fdist = nltk.FreqDist(word_count) \n",
        "    words_df = pd.DataFrame({'word':list(word_count.keys()), 'count':list(word_count.values())}) \n",
        "    d = words_df.nlargest(columns=\"count\", n = terms) \n",
        "    plt.figure(figsize=(12,15)) \n",
        "    ax = sns.barplot(data=d, x= \"count\", y = \"word\") \n",
        "    ax.set(ylabel = 'Word') \n",
        "    plt.show()"
      ],
      "execution_count": null,
      "outputs": []
    },
    {
      "cell_type": "code",
      "metadata": {
        "id": "7ibs2XTAZOJq"
      },
      "source": [
        "df['Summary'] = df['Summary'].apply(lambda x: clean_text(x))"
      ],
      "execution_count": null,
      "outputs": []
    },
    {
      "cell_type": "markdown",
      "metadata": {
        "id": "4qSTGXjpANgM"
      },
      "source": [
        "The most frequent words out of all the words in the data:"
      ]
    },
    {
      "cell_type": "code",
      "metadata": {
        "colab": {
          "base_uri": "https://localhost:8080/",
          "height": 877
        },
        "id": "CiYqJuLPANgN",
        "outputId": "02394d01-9355-4ac1-b7b9-d986f87edfd3"
      },
      "source": [
        "freq_words(df['Summary'], 50)"
      ],
      "execution_count": null,
      "outputs": [
        {
          "output_type": "display_data",
          "data": {
            "image/png": "[encoded data removed]",
            "text/plain": [
              "<Figure size 864x1080 with 1 Axes>"
            ]
          },
          "metadata": {
            "needs_background": "light"
          }
        }
      ]
    },
    {
      "cell_type": "markdown",
      "metadata": {
        "id": "4cIaOVSpANgN"
      },
      "source": [
        "Thus, we remove all stopwords for relevant data."
      ]
    },
    {
      "cell_type": "code",
      "metadata": {
        "id": "dc1oqyxdZUmt"
      },
      "source": [
        "df['Summary'] = df['Summary'].apply(lambda x: remove_stopwords(x))"
      ],
      "execution_count": null,
      "outputs": []
    },
    {
      "cell_type": "markdown",
      "metadata": {
        "id": "QWxz2Rg8ANgN"
      },
      "source": [
        "The most frequent words after removing stopwords is as follows:"
      ]
    },
    {
      "cell_type": "code",
      "metadata": {
        "colab": {
          "base_uri": "https://localhost:8080/",
          "height": 877
        },
        "id": "HJN9fspOANgN",
        "outputId": "0734f07b-e1c9-4e2c-e32b-2b4461e54c51"
      },
      "source": [
        "freq_words(df['Summary'], 50)"
      ],
      "execution_count": null,
      "outputs": [
        {
          "output_type": "display_data",
          "data": {
            "image/png": "[encoded data removed]",
            "text/plain": [
              "<Figure size 864x1080 with 1 Axes>"
            ]
          },
          "metadata": {
            "needs_background": "light"
          }
        }
      ]
    },
    {
      "cell_type": "code",
      "metadata": {
        "colab": {
          "base_uri": "https://localhost:8080/",
          "height": 380
        },
        "id": "RGyK6vlEZckM",
        "outputId": "5e4c523f-e076-4beb-8ddc-7dd06826dfeb"
      },
      "source": [
        "df.head()"
      ],
      "execution_count": null,
      "outputs": [
        {
          "output_type": "execute_result",
          "data": {
            "text/html": [
              "<div>\n",
              "<style scoped>\n",
              "    .dataframe tbody tr th:only-of-type {\n",
              "        vertical-align: middle;\n",
              "    }\n",
              "\n",
              "    .dataframe tbody tr th {\n",
              "        vertical-align: top;\n",
              "    }\n",
              "\n",
              "    .dataframe thead th {\n",
              "        text-align: right;\n",
              "    }\n",
              "</style>\n",
              "<table border=\"1\" class=\"dataframe\">\n",
              "  <thead>\n",
              "    <tr style=\"text-align: right;\">\n",
              "      <th></th>\n",
              "      <th>Name</th>\n",
              "      <th>Genres</th>\n",
              "      <th>Summary</th>\n",
              "    </tr>\n",
              "  </thead>\n",
              "  <tbody>\n",
              "    <tr>\n",
              "      <th>0</th>\n",
              "      <td>The New York Times Daily Crossword Puzzles: Thursday, Volume 1</td>\n",
              "      <td>[Games, Nonfiction]</td>\n",
              "      <td>monday crosswords easetuesday crosswords breezewednesday crosswords harder stillthursday crosswords take real skillfriday crosswords come far saturday crosswords star millions people new york times crossword puzzles essential day first cup coffee morning first time ever premier puzzles available...</td>\n",
              "    </tr>\n",
              "    <tr>\n",
              "      <th>1</th>\n",
              "      <td>Creatures of the Night (Second Edition)</td>\n",
              "      <td>[Graphic Novels and Manga, Fiction]</td>\n",
              "      <td>two literary comics modern masters present pair magical disturbing stories strange creatures quite seem price mysterious feline engages nightly conflict unseen vicious foe daughter owls recounts eerie tale beautiful orphan girl found clutching owl pellet would wrong would face bizarre unforeseen...</td>\n",
              "    </tr>\n",
              "    <tr>\n",
              "      <th>2</th>\n",
              "      <td>Cornelia and the Audacious Escapades of the Somerset Sisters</td>\n",
              "      <td>[Children’s Middle Grade Books, Children’s Books]</td>\n",
              "      <td>eleven year old cornelia girl ii world famous pianists bequest feel fabulous instead feels plain lonely surrounds dictionaries books set apart outside world glamorous neighbour named virginia somerset moves next door servant patel pixilated french bulldog named mister kinyatta cornelia discovers...</td>\n",
              "    </tr>\n",
              "    <tr>\n",
              "      <th>3</th>\n",
              "      <td>The Alchemist's Daughter</td>\n",
              "      <td>[Historical Fiction, Fiction]</td>\n",
              "      <td>english age reason woman cloistered since birth learns knowledge substitute experience raised father near isolation english countryside emilie selden trained brilliant natural philosopher alchemist spring father daughter embark upon daring alchemical experiment date attempting breathe life dead ...</td>\n",
              "    </tr>\n",
              "    <tr>\n",
              "      <th>4</th>\n",
              "      <td>Dangerous Boy</td>\n",
              "      <td>[Teen and Young Adult Mystery and Suspense, Teen and Young Adult]</td>\n",
              "      <td>modern day retelling strange case dr jekyll mr hyde chilling twist harper never worried falling love something skeptical even exists everything changes logan moves town harper shock two tumble intense romance everything never thought wanted meets logan twin brother caleb expelled last school tru...</td>\n",
              "    </tr>\n",
              "  </tbody>\n",
              "</table>\n",
              "</div>"
            ],
            "text/plain": [
              "                                                             Name  ...                                                                                                                                                                                                                                                                                                      Summary\n",
              "0  The New York Times Daily Crossword Puzzles: Thursday, Volume 1  ...  monday crosswords easetuesday crosswords breezewednesday crosswords harder stillthursday crosswords take real skillfriday crosswords come far saturday crosswords star millions people new york times crossword puzzles essential day first cup coffee morning first time ever premier puzzles available...\n",
              "1                         Creatures of the Night (Second Edition)  ...  two literary comics modern masters present pair magical disturbing stories strange creatures quite seem price mysterious feline engages nightly conflict unseen vicious foe daughter owls recounts eerie tale beautiful orphan girl found clutching owl pellet would wrong would face bizarre unforeseen...\n",
              "2    Cornelia and the Audacious Escapades of the Somerset Sisters  ...  eleven year old cornelia girl ii world famous pianists bequest feel fabulous instead feels plain lonely surrounds dictionaries books set apart outside world glamorous neighbour named virginia somerset moves next door servant patel pixilated french bulldog named mister kinyatta cornelia discovers...\n",
              "3                                        The Alchemist's Daughter  ...  english age reason woman cloistered since birth learns knowledge substitute experience raised father near isolation english countryside emilie selden trained brilliant natural philosopher alchemist spring father daughter embark upon daring alchemical experiment date attempting breathe life dead ...\n",
              "4                                                   Dangerous Boy  ...  modern day retelling strange case dr jekyll mr hyde chilling twist harper never worried falling love something skeptical even exists everything changes logan moves town harper shock two tumble intense romance everything never thought wanted meets logan twin brother caleb expelled last school tru...\n",
              "\n",
              "[5 rows x 3 columns]"
            ]
          },
          "metadata": {},
          "execution_count": 26
        }
      ]
    },
    {
      "cell_type": "markdown",
      "metadata": {
        "id": "vIPa1TWXANgO"
      },
      "source": [
        "Storing the augmented data in a csv file."
      ]
    },
    {
      "cell_type": "code",
      "metadata": {
        "id": "1UuvJvzEANgO"
      },
      "source": [
        "df.to_csv(r'.\\augmented_data_50.csv', index = False)"
      ],
      "execution_count": null,
      "outputs": []
    },
    {
      "cell_type": "code",
      "metadata": {
        "id": "ai26BegWZrX8"
      },
      "source": [
        "from sklearn.preprocessing import MultiLabelBinarizer\n",
        "from sklearn.pipeline import Pipeline\n",
        "from sklearn.feature_extraction.text import CountVectorizer, TfidfVectorizer, TfidfTransformer\n",
        "#from sklearn import preprocessing\n",
        "\n",
        "multilabel_binarizer = MultiLabelBinarizer()\n",
        "multilabel_binarizer.fit(df['Genres'])\n",
        "\n",
        "# transform target variable\n",
        "y = multilabel_binarizer.transform(df['Genres'])"
      ],
      "execution_count": null,
      "outputs": []
    },
    {
      "cell_type": "code",
      "metadata": {
        "id": "JZSdXkn5Z6tu"
      },
      "source": [
        "xtrain, xval, ytrain, yval = train_test_split(df['Summary'], y, test_size=0.2, random_state=9)"
      ],
      "execution_count": null,
      "outputs": []
    },
    {
      "cell_type": "code",
      "metadata": {
        "id": "x5OGzK-raCDj"
      },
      "source": [
        "from sklearn.linear_model import LogisticRegression\n",
        "\n",
        "# Binary Relevance\n",
        "from sklearn.multiclass import OneVsRestClassifier\n",
        "\n",
        "# Performance metric\n",
        "from sklearn.metrics import f1_score"
      ],
      "execution_count": null,
      "outputs": []
    },
    {
      "cell_type": "code",
      "metadata": {
        "id": "EUV7iKnaaErd"
      },
      "source": [
        "import math\n",
        "lr = LogisticRegression()\n",
        "\n",
        "clf = Pipeline([('vect', CountVectorizer(ngram_range=(1,2), max_df=0.8, max_features=10000)),\n",
        "                ('tfidf', TfidfTransformer()),\n",
        "                ('ovr', OneVsRestClassifier(lr))\n",
        "               ])"
      ],
      "execution_count": null,
      "outputs": []
    },
    {
      "cell_type": "code",
      "metadata": {
        "colab": {
          "base_uri": "https://localhost:8080/"
        },
        "id": "noUUOjzuaGud",
        "outputId": "96dcbe81-b49f-4c45-b0b5-a381a1ac57b6"
      },
      "source": [
        "clf.fit(xtrain, ytrain)"
      ],
      "execution_count": null,
      "outputs": [
        {
          "output_type": "stream",
          "name": "stderr",
          "text": [
            "/usr/local/lib/python3.7/dist-packages/sklearn/linear_model/_logistic.py:818: ConvergenceWarning: lbfgs failed to converge (status=1):\n",
            "STOP: TOTAL NO. of ITERATIONS REACHED LIMIT.\n",
            "\n",
            "Increase the number of iterations (max_iter) or scale the data as shown in:\n",
            "    https://scikit-learn.org/stable/modules/preprocessing.html\n",
            "Please also refer to the documentation for alternative solver options:\n",
            "    https://scikit-learn.org/stable/modules/linear_model.html#logistic-regression\n",
            "  extra_warning_msg=_LOGISTIC_SOLVER_CONVERGENCE_MSG,\n",
            "/usr/local/lib/python3.7/dist-packages/sklearn/linear_model/_logistic.py:818: ConvergenceWarning: lbfgs failed to converge (status=1):\n",
            "STOP: TOTAL NO. of ITERATIONS REACHED LIMIT.\n",
            "\n",
            "Increase the number of iterations (max_iter) or scale the data as shown in:\n",
            "    https://scikit-learn.org/stable/modules/preprocessing.html\n",
            "Please also refer to the documentation for alternative solver options:\n",
            "    https://scikit-learn.org/stable/modules/linear_model.html#logistic-regression\n",
            "  extra_warning_msg=_LOGISTIC_SOLVER_CONVERGENCE_MSG,\n",
            "/usr/local/lib/python3.7/dist-packages/sklearn/linear_model/_logistic.py:818: ConvergenceWarning: lbfgs failed to converge (status=1):\n",
            "STOP: TOTAL NO. of ITERATIONS REACHED LIMIT.\n",
            "\n",
            "Increase the number of iterations (max_iter) or scale the data as shown in:\n",
            "    https://scikit-learn.org/stable/modules/preprocessing.html\n",
            "Please also refer to the documentation for alternative solver options:\n",
            "    https://scikit-learn.org/stable/modules/linear_model.html#logistic-regression\n",
            "  extra_warning_msg=_LOGISTIC_SOLVER_CONVERGENCE_MSG,\n",
            "/usr/local/lib/python3.7/dist-packages/sklearn/linear_model/_logistic.py:818: ConvergenceWarning: lbfgs failed to converge (status=1):\n",
            "STOP: TOTAL NO. of ITERATIONS REACHED LIMIT.\n",
            "\n",
            "Increase the number of iterations (max_iter) or scale the data as shown in:\n",
            "    https://scikit-learn.org/stable/modules/preprocessing.html\n",
            "Please also refer to the documentation for alternative solver options:\n",
            "    https://scikit-learn.org/stable/modules/linear_model.html#logistic-regression\n",
            "  extra_warning_msg=_LOGISTIC_SOLVER_CONVERGENCE_MSG,\n",
            "/usr/local/lib/python3.7/dist-packages/sklearn/linear_model/_logistic.py:818: ConvergenceWarning: lbfgs failed to converge (status=1):\n",
            "STOP: TOTAL NO. of ITERATIONS REACHED LIMIT.\n",
            "\n",
            "Increase the number of iterations (max_iter) or scale the data as shown in:\n",
            "    https://scikit-learn.org/stable/modules/preprocessing.html\n",
            "Please also refer to the documentation for alternative solver options:\n",
            "    https://scikit-learn.org/stable/modules/linear_model.html#logistic-regression\n",
            "  extra_warning_msg=_LOGISTIC_SOLVER_CONVERGENCE_MSG,\n",
            "/usr/local/lib/python3.7/dist-packages/sklearn/linear_model/_logistic.py:818: ConvergenceWarning: lbfgs failed to converge (status=1):\n",
            "STOP: TOTAL NO. of ITERATIONS REACHED LIMIT.\n",
            "\n",
            "Increase the number of iterations (max_iter) or scale the data as shown in:\n",
            "    https://scikit-learn.org/stable/modules/preprocessing.html\n",
            "Please also refer to the documentation for alternative solver options:\n",
            "    https://scikit-learn.org/stable/modules/linear_model.html#logistic-regression\n",
            "  extra_warning_msg=_LOGISTIC_SOLVER_CONVERGENCE_MSG,\n",
            "/usr/local/lib/python3.7/dist-packages/sklearn/linear_model/_logistic.py:818: ConvergenceWarning: lbfgs failed to converge (status=1):\n",
            "STOP: TOTAL NO. of ITERATIONS REACHED LIMIT.\n",
            "\n",
            "Increase the number of iterations (max_iter) or scale the data as shown in:\n",
            "    https://scikit-learn.org/stable/modules/preprocessing.html\n",
            "Please also refer to the documentation for alternative solver options:\n",
            "    https://scikit-learn.org/stable/modules/linear_model.html#logistic-regression\n",
            "  extra_warning_msg=_LOGISTIC_SOLVER_CONVERGENCE_MSG,\n",
            "/usr/local/lib/python3.7/dist-packages/sklearn/linear_model/_logistic.py:818: ConvergenceWarning: lbfgs failed to converge (status=1):\n",
            "STOP: TOTAL NO. of ITERATIONS REACHED LIMIT.\n",
            "\n",
            "Increase the number of iterations (max_iter) or scale the data as shown in:\n",
            "    https://scikit-learn.org/stable/modules/preprocessing.html\n",
            "Please also refer to the documentation for alternative solver options:\n",
            "    https://scikit-learn.org/stable/modules/linear_model.html#logistic-regression\n",
            "  extra_warning_msg=_LOGISTIC_SOLVER_CONVERGENCE_MSG,\n"
          ]
        },
        {
          "output_type": "execute_result",
          "data": {
            "text/plain": [
              "Pipeline(steps=[('vect',\n",
              "                 CountVectorizer(max_df=0.8, max_features=10000,\n",
              "                                 ngram_range=(1, 2))),\n",
              "                ('tfidf', TfidfTransformer()),\n",
              "                ('ovr', OneVsRestClassifier(estimator=LogisticRegression()))])"
            ]
          },
          "metadata": {},
          "execution_count": 32
        }
      ]
    },
    {
      "cell_type": "code",
      "metadata": {
        "id": "wntDY51qANgQ"
      },
      "source": [
        "pickle.dump([clf, multilabel_binarizer], open('multi_label_50.sav', 'wb'))"
      ],
      "execution_count": null,
      "outputs": []
    },
    {
      "cell_type": "code",
      "metadata": {
        "id": "EnxKGK1XaITD"
      },
      "source": [
        "y_pred = clf.predict(xval)"
      ],
      "execution_count": null,
      "outputs": []
    },
    {
      "cell_type": "code",
      "metadata": {
        "colab": {
          "base_uri": "https://localhost:8080/"
        },
        "id": "ICK9FColaKNl",
        "outputId": "149512a1-cf36-4e4c-84ba-f75100ebdf45"
      },
      "source": [
        "f1_score(yval, y_pred, average=\"micro\")"
      ],
      "execution_count": null,
      "outputs": [
        {
          "output_type": "execute_result",
          "data": {
            "text/plain": [
              "0.7019471848913054"
            ]
          },
          "metadata": {},
          "execution_count": 35
        }
      ]
    },
    {
      "cell_type": "code",
      "metadata": {
        "id": "epi1n-S_tleY"
      },
      "source": [
        "y_pred_prob = clf.predict_proba(xval)\n",
        "t = 0.2505\n",
        "y_pred_new = (y_pred_prob >= t).astype(int)"
      ],
      "execution_count": null,
      "outputs": []
    },
    {
      "cell_type": "code",
      "metadata": {
        "colab": {
          "base_uri": "https://localhost:8080/"
        },
        "id": "T_ZLHp72tqIA",
        "outputId": "67334200-7d19-452d-a683-6cac1214a65b"
      },
      "source": [
        "f1_score(yval, y_pred_new, average=\"micro\")"
      ],
      "execution_count": null,
      "outputs": [
        {
          "output_type": "execute_result",
          "data": {
            "text/plain": [
              "0.7712376455523989"
            ]
          },
          "metadata": {},
          "execution_count": 37
        }
      ]
    },
    {
      "cell_type": "code",
      "metadata": {
        "id": "kAtiuLtOajYg"
      },
      "source": [
        "def infer_tags(q):\n",
        "    q = clean_text(q)\n",
        "    q = remove_stopwords(q)\n",
        "    q_pred_prob = clf.predict_proba([q])\n",
        "    t = 0.2505\n",
        "    q_pred_new = (q_pred_prob >= t).astype(int)\n",
        "\n",
        "    return multilabel_binarizer.inverse_transform(q_pred_new)"
      ],
      "execution_count": null,
      "outputs": []
    },
    {
      "cell_type": "code",
      "metadata": {
        "colab": {
          "base_uri": "https://localhost:8080/"
        },
        "id": "HhTwzoZxaRwt",
        "outputId": "fb456036-9b7f-4e30-a837-21e2ade9a049"
      },
      "source": [
        "for i in range(5): \n",
        "    k = xval.sample(1).index[0] \n",
        "    print(\"Book: \", df['Name'][k], \"\\nPredicted genre: \", infer_tags(xval[k])), print(\"Actual genre: \",df['Genres'][k], \"\\n\")"
      ],
      "execution_count": null,
      "outputs": [
        {
          "output_type": "stream",
          "name": "stdout",
          "text": [
            "Book:  To the Edge of the World \n",
            "Predicted genre:  [('Teen and Young Adult',)]\n",
            "Actual genre:  ['Teen and Young Adult Historical Fiction', 'Teen and Young Adult'] \n",
            "\n",
            "Book:  Thieves Get Rich, Saints Get Shot \n",
            "Predicted genre:  [('Fiction', 'Mystery and Suspense')]\n",
            "Actual genre:  ['Suspense and Thriller', 'Mystery and Suspense', 'Fiction'] \n",
            "\n",
            "Book:  Peace, Love, and Mad Libs \n",
            "Predicted genre:  [('Humor',)]\n",
            "Actual genre:  ['Children’s Middle Grade Books', 'Children’s Books'] \n",
            "\n",
            "Book:  American Heart Association Eat Less Salt \n",
            "Predicted genre:  [('Cooking', 'Diet and Nutrition', 'Nonfiction')]\n",
            "Actual genre:  ['Diet and Nutrition', 'Cooking', 'Nonfiction'] \n",
            "\n",
            "Book:  Plenty \n",
            "Predicted genre:  [('Poetry',)]\n",
            "Actual genre:  ['Poetry'] \n",
            "\n"
          ]
        }
      ]
    },
    {
      "cell_type": "code",
      "metadata": {
        "colab": {
          "base_uri": "https://localhost:8080/"
        },
        "id": "WVq43Qm7an6B",
        "outputId": "bc451561-096b-4ec3-b52a-57e2232ae116"
      },
      "source": [
        "# The Adventures of Tom Sawyer\n",
        "infer_tags(\"The Adventures of Tom Sawyer is an 1876 novel by Mark Twain about a boy growing up along the Mississippi River. It is set in the 1840s in the town of St. Petersburg, which is based on Hannibal, Missouri, where Twain lived as a boy\")"
      ],
      "execution_count": null,
      "outputs": [
        {
          "output_type": "execute_result",
          "data": {
            "text/plain": [
              "[('Children’s Books',\n",
              "  'Children’s Middle Grade Books',\n",
              "  'Classics',\n",
              "  'Literary Fiction')]"
            ]
          },
          "metadata": {},
          "execution_count": 40
        }
      ]
    },
    {
      "cell_type": "code",
      "metadata": {
        "colab": {
          "base_uri": "https://localhost:8080/"
        },
        "id": "l_PMnWHKANgS",
        "outputId": "a4b2785d-2c1a-44ed-d8c5-1051cb691de0"
      },
      "source": [
        "# Pride and Prejudice\n",
        "infer_tags(\"Pride and Prejudice is set in rural England in the early 19th century, and it follows the Bennet family, which includes five very different sisters. Mrs. Bennet is anxious to see all her daughters married, especially as the modest family estate is to be inherited by William Collins when Mr. Bennet dies. At a ball, the wealthy and newly arrived Charles Bingley takes an immediate interest in the eldest Bennet daughter, the beautiful and shy Jane. The encounter between his friend Darcy and Elizabeth is less cordial. Although Austen shows them intrigued by each other, she reverses the convention of first impressions: pride of rank and fortune and prejudice against the social inferiority of Elizabeth’s family hold Darcy aloof, while Elizabeth is equally fired both by the pride of self-respect and by prejudice against Darcy’s snobbery. The pompous Collins subsequently arrives, hoping to marry one of the Bennet sisters. Elizabeth, however, refuses his offer of marriage, and he instead becomes engaged to her friend Charlotte Lucas. During this time, Elizabeth encounters the charming George Wickham, a military officer. There is a mutual attraction between the two, and he informs her that Darcy has denied him his inheritance. After Bingley abruptly departs for London, Elizabeth’s dislike of Darcy increases as she becomes convinced that he is discouraging Bingley’s relationship with Jane. Darcy, however, has grown increasingly fond of Elizabeth, admiring her intelligence and vitality. While visiting the now-married Charlotte, Elizabeth sees Darcy, who professes his love for her and proposes. A surprised Elizabeth refuses his offer, and, when Darcy demands an explanation, she accuses him of breaking up Jane and Bingley. Darcy subsequently writes Elizabeth a letter in which he explains that he separated the couple largely because he did not believe Jane returned Bingley’s affection. He also discloses that Wickham, after squandering his inheritance, tried to marry Darcy’s then 15-year-old sister in an attempt to gain possession of her fortune. With these revelations, Elizabeth begins to see Darcy in a new light. Shortly thereafter the youngest Bennet sister, Lydia, elopes with Wickham. The news is met with great alarm by Elizabeth, since the scandalous affair—which is unlikely to end in marriage—could ruin the reputation of the other Bennet sisters. When she tells Darcy, he persuades Wickham to marry Lydia, offering him money. Despite Darcy’s attempt to keep his intervention a secret, Elizabeth learns of his actions. At the encouragement of Darcy, Bingley subsequently returns, and he and Jane become engaged. Finally, Darcy proposes again to Elizabeth, who this time accepts.\")"
      ],
      "execution_count": null,
      "outputs": [
        {
          "output_type": "execute_result",
          "data": {
            "text/plain": [
              "[('Fiction', 'Historical Romance', 'Literary Fiction', 'Romance')]"
            ]
          },
          "metadata": {},
          "execution_count": 41
        }
      ]
    },
    {
      "cell_type": "code",
      "metadata": {
        "colab": {
          "base_uri": "https://localhost:8080/"
        },
        "id": "Oqu6ByCeANgS",
        "outputId": "2dcfb599-ff8d-4b2a-fd71-391ed20a71fa"
      },
      "source": [
        "# Harry Potter\n",
        "infer_tags(\"Adaptation of the first of J.K. Rowling's popular children's novels about Harry Potter, a boy who learns on his eleventh birthday that he is the orphaned son of two powerful wizards and possesses unique magical powers of his own. He is summoned from his life as an unwanted child to become a student at Hogwarts, an English boarding school for wizards. There, he meets several friends who become his closest allies and help him discover the truth about his parents' mysterious deaths.\")"
      ],
      "execution_count": null,
      "outputs": [
        {
          "output_type": "execute_result",
          "data": {
            "text/plain": [
              "[('Children’s Books',)]"
            ]
          },
          "metadata": {},
          "execution_count": 42
        }
      ]
    },
    {
      "cell_type": "code",
      "metadata": {
        "colab": {
          "base_uri": "https://localhost:8080/"
        },
        "id": "fBl0hopzUOnD",
        "outputId": "d64f2861-72da-4004-86cf-5fdafaa5f34b"
      },
      "source": [
        "# The Theory of Everything\n",
        "infer_tags(\"Based on a series of lectures given at Cambridge University, Professor Hawking's work introduced the history of ideas about the universe as well as today's most important scientific theories about time, space, and the cosmos in a clear, easy-to-understand way. The Theory of Everything presents the most complex theories, both past and present, of physics; yet it remains clear and accessible. It will enlighten readers and expose them to the rich history of scientific thought and the complexities of the universe in which we live.\")"
      ],
      "execution_count": null,
      "outputs": [
        {
          "output_type": "execute_result",
          "data": {
            "text/plain": [
              "[('Nonfiction', 'Popular Science', 'Science')]"
            ]
          },
          "metadata": {},
          "execution_count": 43
        }
      ]
    },
    {
      "cell_type": "code",
      "metadata": {
        "colab": {
          "base_uri": "https://localhost:8080/"
        },
        "id": "deweyxDuSNPi",
        "outputId": "3a5705b9-5b99-458a-f2d8-7db39b71652b"
      },
      "source": [
        "# The Merchant of Venice\n",
        "infer_tags(\"The Merchant of Venice is a 16th-century play written by William Shakespeare in which a merchant in\n",
        "Venice named Antonio defaults on a large loan provided by a Jewish moneylender, Shylock. It is believed to have been written between 1596 and 1599\")"
      ],
      "execution_count": null,
      "outputs": [
        {
          "output_type": "execute_result",
          "data": {
            "text/plain": [
              "[('Classics', 'Nonfiction Classics')]"
            ]
          },
          "metadata": {},
          "execution_count": 44
        }
      ]
    },
    {
      "cell_type": "code",
      "metadata": {
        "colab": {
          "base_uri": "https://localhost:8080/"
        },
        "id": "I8RnYlEPSaOl",
        "outputId": "b0580608-2d8c-42b4-9fc7-47331cda1bc0"
      },
      "source": [
        "# Around The World in 80 days\n",
        "infer_tags(\"Around the World in Eighty Days is an adventure novel by the French writer Jules Verne, first published in French in 1872. In the story, Phileas Fogg of London and his newly employed French valet Passepartout attempt to circumnavigate the world in 80 days on a wager GB£20,000 set by his friends at the Reform Club\")"
      ],
      "execution_count": null,
      "outputs": [
        {
          "output_type": "execute_result",
          "data": {
            "text/plain": [
              "[('Classics', 'Fiction', 'Literary Fiction')]"
            ]
          },
          "metadata": {},
          "execution_count": 45
        }
      ]
    },
    {
      "cell_type": "code",
      "metadata": {
        "colab": {
          "base_uri": "https://localhost:8080/"
        },
        "id": "P7bSP34xSqHK",
        "outputId": "bc0fda35-dd74-4c6f-de1a-f3c8714a7c50"
      },
      "source": [
        "# Gitanjali\n",
        "infer_tags(\"Gitanjali is a collection of poems by the Bengali poet Rabindranath Tagore. Tagore received the Nobel Prize for Literature, largely for the English translation, Song Offerings. It is part of the UNESCO Collection of Representative Works. Its central theme is devotion, and its motto is 'I am here to sing thee songs'.\")"
      ],
      "execution_count": null,
      "outputs": [
        {
          "output_type": "execute_result",
          "data": {
            "text/plain": [
              "[('Classics', 'Poetry')]"
            ]
          },
          "metadata": {},
          "execution_count": 46
        }
      ]
    },
    {
      "cell_type": "code",
      "metadata": {
        "colab": {
          "base_uri": "https://localhost:8080/"
        },
        "id": "pTNjqTfiS0bm",
        "outputId": "016d93d9-15cf-4742-ae6e-ca79a04243b1"
      },
      "source": [
        "# The Wings of Fire\n",
        "infer_tags(\"An Autobiography of APJ Abdul Kalam, former President of India. It was written by Dr. Abdul Kalam and Arun Tiwari. Dr. Kalam examines his early life, effort, hardship, fortitude, luck, and the chance that eventually led him to lead Indian space research, nuclear and missile programs\")"
      ],
      "execution_count": null,
      "outputs": [
        {
          "output_type": "execute_result",
          "data": {
            "text/plain": [
              "[('Nonfiction',)]"
            ]
          },
          "metadata": {},
          "execution_count": 47
        }
      ]
    },
    {
      "cell_type": "code",
      "metadata": {
        "colab": {
          "base_uri": "https://localhost:8080/"
        },
        "id": "dfCXnM_cTDH8",
        "outputId": "1a83f00b-ce5c-4d7c-a926-189a13d6f3d9"
      },
      "source": [
        "# My Experiments with Truth -by Mahatma Gandhi\n",
        "infer_tags(\"The Story of My Experiments with Truth is the autobiography of Mahatma Gandhi, covering his life from early childhood through to 1921. It was written in weekly installments and published in his journal Navjivan from 1925 to 1929. Its English translation also appeared in installments in his other journal Young India\")"
      ],
      "execution_count": null,
      "outputs": [
        {
          "output_type": "execute_result",
          "data": {
            "text/plain": [
              "[('Biography and Memoir', 'Classics')]"
            ]
          },
          "metadata": {},
          "execution_count": 48
        }
      ]
    },
    {
      "cell_type": "code",
      "metadata": {
        "colab": {
          "base_uri": "https://localhost:8080/"
        },
        "id": "ZBOASomuTwlL",
        "outputId": "6947b23e-6ad3-4c68-92fc-dcc38c50fb44"
      },
      "source": [
        "# A Brief History of Time\n",
        "infer_tags(\"A Brief History of Time: From the Big Bang to Black Holes is a book on theoretical cosmology by English physicist Stephen Hawking. It was first published in 1988. Hawking wrote the book for readers who had no prior knowledge of physics and people who are interested in learning something new about interesting subjects.\")"
      ],
      "execution_count": null,
      "outputs": [
        {
          "output_type": "execute_result",
          "data": {
            "text/plain": [
              "[('Children’s Books', 'Nonfiction')]"
            ]
          },
          "metadata": {},
          "execution_count": 49
        }
      ]
    },
    {
      "cell_type": "code",
      "metadata": {
        "colab": {
          "base_uri": "https://localhost:8080/"
        },
        "id": "Uq3FBh__Uh4T",
        "outputId": "47d94bdb-b74b-47c5-e600-9c73051108f2"
      },
      "source": [
        "# Godaan - by Premchand\n",
        "infer_tags(\"Godaan is a famous Hindi novel by Munshi Premchand. It was first published in 1936 and is considered one of the greatest Hindi novels of modern Indian literature. Themed around the socio-economic deprivation as well as the exploitation of the village poor, the novel was the last complete novel of Premchand\")"
      ],
      "execution_count": null,
      "outputs": [
        {
          "output_type": "execute_result",
          "data": {
            "text/plain": [
              "[('Classics', 'Fiction', 'Literary Fiction')]"
            ]
          },
          "metadata": {},
          "execution_count": 50
        }
      ]
    },
    {
      "cell_type": "code",
      "metadata": {
        "colab": {
          "base_uri": "https://localhost:8080/"
        },
        "id": "OjjEhYLYcRbP",
        "outputId": "6674003f-c3b3-4f37-d5d5-acaeb27654a7"
      },
      "source": [
        "# Sherlock Holmes\n",
        "infer_tags(\"Sherlock Holmes is a fictional detective of the late 19th and early 20th centuries, who first appeared in publication in 1887. He was devised by British author and physician Sir Arthur Conan Doyle. A brilliant London-based detective, Holmes is famous for his prowess at using logic and astute observation to solve cases.\")"
      ],
      "execution_count": null,
      "outputs": [
        {
          "output_type": "execute_result",
          "data": {
            "text/plain": [
              "[('Classics', 'Fiction', 'Literary Criticism', 'Mystery and Suspense')]"
            ]
          },
          "metadata": {},
          "execution_count": 51
        }
      ]
    }
  ]
}